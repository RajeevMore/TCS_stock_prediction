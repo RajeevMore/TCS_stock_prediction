{
 "cells": [
  {
   "cell_type": "markdown",
   "metadata": {
    "id": "WI419U7gKYcC"
   },
   "source": [
    "### Importing libraries"
   ]
  },
  {
   "cell_type": "code",
   "execution_count": 3,
   "metadata": {
    "colab": {
     "base_uri": "https://localhost:8080/"
    },
    "id": "7yHt5t69JIfS",
    "outputId": "99c97a32-e016-4014-b32f-7d59d8d2732c"
   },
   "outputs": [
    {
     "name": "stdout",
     "output_type": "stream",
     "text": [
      "Mounted at /content/drive\n"
     ]
    }
   ],
   "source": [
    "from google.colab import drive\n",
    "drive.mount('/content/drive')"
   ]
  },
  {
   "cell_type": "code",
   "execution_count": 4,
   "metadata": {
    "id": "01qzFpLmKbxA"
   },
   "outputs": [],
   "source": [
    "import numpy as np\n",
    "import matplotlib.pyplot as plt\n",
    "import pandas as pd"
   ]
  },
  {
   "cell_type": "markdown",
   "metadata": {
    "id": "iZLXUWgaKv-j"
   },
   "source": [
    "### Importing the training set"
   ]
  },
  {
   "cell_type": "markdown",
   "metadata": {
    "id": "Xk3og_GXMCdd"
   },
   "source": [
    "\n",
    "\n",
    "```\n",
    "# This is formatted as code\n",
    "```\n",
    "\n",
    "Dataset downloaded from NSE INDIA\n",
    "\n",
    "* Training dataset contains TCS stock price from May 2012 to March 2022\n",
    "\n",
    "* Test dataset contains TCS stock price for April 2022"
   ]
  },
  {
   "cell_type": "code",
   "execution_count": 5,
   "metadata": {
    "id": "9The4ldgKsw3"
   },
   "outputs": [],
   "source": [
    "dataset_train= pd.read_csv('/content/drive/MyDrive/Stock_predict/TCS_stock_Train_data.csv')\n",
    "training_set = dataset_train.iloc[:,1:].values"
   ]
  },
  {
   "cell_type": "code",
   "execution_count": 6,
   "metadata": {
    "colab": {
     "base_uri": "https://localhost:8080/",
     "height": 206
    },
    "id": "bZFTbHUDLrvc",
    "outputId": "b79cc380-e9b6-4807-dcb1-9b5428433929"
   },
   "outputs": [
    {
     "data": {
      "text/html": [
       "\n",
       "  <div id=\"df-999b64d2-819f-428a-ab10-afcc4230e636\">\n",
       "    <div class=\"colab-df-container\">\n",
       "      <div>\n",
       "<style scoped>\n",
       "    .dataframe tbody tr th:only-of-type {\n",
       "        vertical-align: middle;\n",
       "    }\n",
       "\n",
       "    .dataframe tbody tr th {\n",
       "        vertical-align: top;\n",
       "    }\n",
       "\n",
       "    .dataframe thead th {\n",
       "        text-align: right;\n",
       "    }\n",
       "</style>\n",
       "<table border=\"1\" class=\"dataframe\">\n",
       "  <thead>\n",
       "    <tr style=\"text-align: right;\">\n",
       "      <th></th>\n",
       "      <th>Date</th>\n",
       "      <th>Open</th>\n",
       "      <th>High</th>\n",
       "      <th>Low</th>\n",
       "      <th>Close</th>\n",
       "      <th>Volume</th>\n",
       "    </tr>\n",
       "  </thead>\n",
       "  <tbody>\n",
       "    <tr>\n",
       "      <th>0</th>\n",
       "      <td>2-May-12</td>\n",
       "      <td>1242.1</td>\n",
       "      <td>1274.40</td>\n",
       "      <td>1242.10</td>\n",
       "      <td>1267.25</td>\n",
       "      <td>1990724</td>\n",
       "    </tr>\n",
       "    <tr>\n",
       "      <th>1</th>\n",
       "      <td>3-May-12</td>\n",
       "      <td>1262.7</td>\n",
       "      <td>1284.10</td>\n",
       "      <td>1258.55</td>\n",
       "      <td>1279.50</td>\n",
       "      <td>1679461</td>\n",
       "    </tr>\n",
       "    <tr>\n",
       "      <th>2</th>\n",
       "      <td>4-May-12</td>\n",
       "      <td>1280.0</td>\n",
       "      <td>1295.25</td>\n",
       "      <td>1263.05</td>\n",
       "      <td>1276.80</td>\n",
       "      <td>1785859</td>\n",
       "    </tr>\n",
       "    <tr>\n",
       "      <th>3</th>\n",
       "      <td>7-May-12</td>\n",
       "      <td>1260.0</td>\n",
       "      <td>1278.50</td>\n",
       "      <td>1248.40</td>\n",
       "      <td>1273.25</td>\n",
       "      <td>1313881</td>\n",
       "    </tr>\n",
       "    <tr>\n",
       "      <th>4</th>\n",
       "      <td>8-May-12</td>\n",
       "      <td>1225.0</td>\n",
       "      <td>1234.70</td>\n",
       "      <td>1195.65</td>\n",
       "      <td>1200.70</td>\n",
       "      <td>4815789</td>\n",
       "    </tr>\n",
       "  </tbody>\n",
       "</table>\n",
       "</div>\n",
       "      <button class=\"colab-df-convert\" onclick=\"convertToInteractive('df-999b64d2-819f-428a-ab10-afcc4230e636')\"\n",
       "              title=\"Convert this dataframe to an interactive table.\"\n",
       "              style=\"display:none;\">\n",
       "        \n",
       "  <svg xmlns=\"http://www.w3.org/2000/svg\" height=\"24px\"viewBox=\"0 0 24 24\"\n",
       "       width=\"24px\">\n",
       "    <path d=\"M0 0h24v24H0V0z\" fill=\"none\"/>\n",
       "    <path d=\"M18.56 5.44l.94 2.06.94-2.06 2.06-.94-2.06-.94-.94-2.06-.94 2.06-2.06.94zm-11 1L8.5 8.5l.94-2.06 2.06-.94-2.06-.94L8.5 2.5l-.94 2.06-2.06.94zm10 10l.94 2.06.94-2.06 2.06-.94-2.06-.94-.94-2.06-.94 2.06-2.06.94z\"/><path d=\"M17.41 7.96l-1.37-1.37c-.4-.4-.92-.59-1.43-.59-.52 0-1.04.2-1.43.59L10.3 9.45l-7.72 7.72c-.78.78-.78 2.05 0 2.83L4 21.41c.39.39.9.59 1.41.59.51 0 1.02-.2 1.41-.59l7.78-7.78 2.81-2.81c.8-.78.8-2.07 0-2.86zM5.41 20L4 18.59l7.72-7.72 1.47 1.35L5.41 20z\"/>\n",
       "  </svg>\n",
       "      </button>\n",
       "      \n",
       "  <style>\n",
       "    .colab-df-container {\n",
       "      display:flex;\n",
       "      flex-wrap:wrap;\n",
       "      gap: 12px;\n",
       "    }\n",
       "\n",
       "    .colab-df-convert {\n",
       "      background-color: #E8F0FE;\n",
       "      border: none;\n",
       "      border-radius: 50%;\n",
       "      cursor: pointer;\n",
       "      display: none;\n",
       "      fill: #1967D2;\n",
       "      height: 32px;\n",
       "      padding: 0 0 0 0;\n",
       "      width: 32px;\n",
       "    }\n",
       "\n",
       "    .colab-df-convert:hover {\n",
       "      background-color: #E2EBFA;\n",
       "      box-shadow: 0px 1px 2px rgba(60, 64, 67, 0.3), 0px 1px 3px 1px rgba(60, 64, 67, 0.15);\n",
       "      fill: #174EA6;\n",
       "    }\n",
       "\n",
       "    [theme=dark] .colab-df-convert {\n",
       "      background-color: #3B4455;\n",
       "      fill: #D2E3FC;\n",
       "    }\n",
       "\n",
       "    [theme=dark] .colab-df-convert:hover {\n",
       "      background-color: #434B5C;\n",
       "      box-shadow: 0px 1px 3px 1px rgba(0, 0, 0, 0.15);\n",
       "      filter: drop-shadow(0px 1px 2px rgba(0, 0, 0, 0.3));\n",
       "      fill: #FFFFFF;\n",
       "    }\n",
       "  </style>\n",
       "\n",
       "      <script>\n",
       "        const buttonEl =\n",
       "          document.querySelector('#df-999b64d2-819f-428a-ab10-afcc4230e636 button.colab-df-convert');\n",
       "        buttonEl.style.display =\n",
       "          google.colab.kernel.accessAllowed ? 'block' : 'none';\n",
       "\n",
       "        async function convertToInteractive(key) {\n",
       "          const element = document.querySelector('#df-999b64d2-819f-428a-ab10-afcc4230e636');\n",
       "          const dataTable =\n",
       "            await google.colab.kernel.invokeFunction('convertToInteractive',\n",
       "                                                     [key], {});\n",
       "          if (!dataTable) return;\n",
       "\n",
       "          const docLinkHtml = 'Like what you see? Visit the ' +\n",
       "            '<a target=\"_blank\" href=https://colab.research.google.com/notebooks/data_table.ipynb>data table notebook</a>'\n",
       "            + ' to learn more about interactive tables.';\n",
       "          element.innerHTML = '';\n",
       "          dataTable['output_type'] = 'display_data';\n",
       "          await google.colab.output.renderOutput(dataTable, element);\n",
       "          const docLink = document.createElement('div');\n",
       "          docLink.innerHTML = docLinkHtml;\n",
       "          element.appendChild(docLink);\n",
       "        }\n",
       "      </script>\n",
       "    </div>\n",
       "  </div>\n",
       "  "
      ],
      "text/plain": [
       "       Date    Open     High      Low    Close   Volume\n",
       "0  2-May-12  1242.1  1274.40  1242.10  1267.25  1990724\n",
       "1  3-May-12  1262.7  1284.10  1258.55  1279.50  1679461\n",
       "2  4-May-12  1280.0  1295.25  1263.05  1276.80  1785859\n",
       "3  7-May-12  1260.0  1278.50  1248.40  1273.25  1313881\n",
       "4  8-May-12  1225.0  1234.70  1195.65  1200.70  4815789"
      ]
     },
     "execution_count": 6,
     "metadata": {},
     "output_type": "execute_result"
    }
   ],
   "source": [
    "dataset_train.head()"
   ]
  },
  {
   "cell_type": "code",
   "execution_count": 7,
   "metadata": {
    "colab": {
     "base_uri": "https://localhost:8080/",
     "height": 206
    },
    "id": "Hc4ZYQ0RL3iU",
    "outputId": "c4724ded-b474-40fc-ec22-b65a94849901"
   },
   "outputs": [
    {
     "data": {
      "text/html": [
       "\n",
       "  <div id=\"df-1a249dc7-26b9-4b77-b6bb-fa6ea13244f5\">\n",
       "    <div class=\"colab-df-container\">\n",
       "      <div>\n",
       "<style scoped>\n",
       "    .dataframe tbody tr th:only-of-type {\n",
       "        vertical-align: middle;\n",
       "    }\n",
       "\n",
       "    .dataframe tbody tr th {\n",
       "        vertical-align: top;\n",
       "    }\n",
       "\n",
       "    .dataframe thead th {\n",
       "        text-align: right;\n",
       "    }\n",
       "</style>\n",
       "<table border=\"1\" class=\"dataframe\">\n",
       "  <thead>\n",
       "    <tr style=\"text-align: right;\">\n",
       "      <th></th>\n",
       "      <th>Date</th>\n",
       "      <th>Open</th>\n",
       "      <th>High</th>\n",
       "      <th>Low</th>\n",
       "      <th>Close</th>\n",
       "      <th>Volume</th>\n",
       "    </tr>\n",
       "  </thead>\n",
       "  <tbody>\n",
       "    <tr>\n",
       "      <th>2445</th>\n",
       "      <td>16-Mar-22</td>\n",
       "      <td>3640.5</td>\n",
       "      <td>3668.00</td>\n",
       "      <td>3616.25</td>\n",
       "      <td>3655.90</td>\n",
       "      <td>3090475</td>\n",
       "    </tr>\n",
       "    <tr>\n",
       "      <th>2446</th>\n",
       "      <td>17-Mar-22</td>\n",
       "      <td>3696.6</td>\n",
       "      <td>3710.00</td>\n",
       "      <td>3660.30</td>\n",
       "      <td>3672.75</td>\n",
       "      <td>3600452</td>\n",
       "    </tr>\n",
       "    <tr>\n",
       "      <th>2447</th>\n",
       "      <td>21-Mar-22</td>\n",
       "      <td>3696.0</td>\n",
       "      <td>3713.95</td>\n",
       "      <td>3615.00</td>\n",
       "      <td>3626.70</td>\n",
       "      <td>2413831</td>\n",
       "    </tr>\n",
       "    <tr>\n",
       "      <th>2448</th>\n",
       "      <td>22-Mar-22</td>\n",
       "      <td>3640.0</td>\n",
       "      <td>3711.00</td>\n",
       "      <td>3625.00</td>\n",
       "      <td>3700.95</td>\n",
       "      <td>2907611</td>\n",
       "    </tr>\n",
       "    <tr>\n",
       "      <th>2449</th>\n",
       "      <td>23-Mar-22</td>\n",
       "      <td>3708.0</td>\n",
       "      <td>3729.80</td>\n",
       "      <td>3690.00</td>\n",
       "      <td>3712.40</td>\n",
       "      <td>1596195</td>\n",
       "    </tr>\n",
       "  </tbody>\n",
       "</table>\n",
       "</div>\n",
       "      <button class=\"colab-df-convert\" onclick=\"convertToInteractive('df-1a249dc7-26b9-4b77-b6bb-fa6ea13244f5')\"\n",
       "              title=\"Convert this dataframe to an interactive table.\"\n",
       "              style=\"display:none;\">\n",
       "        \n",
       "  <svg xmlns=\"http://www.w3.org/2000/svg\" height=\"24px\"viewBox=\"0 0 24 24\"\n",
       "       width=\"24px\">\n",
       "    <path d=\"M0 0h24v24H0V0z\" fill=\"none\"/>\n",
       "    <path d=\"M18.56 5.44l.94 2.06.94-2.06 2.06-.94-2.06-.94-.94-2.06-.94 2.06-2.06.94zm-11 1L8.5 8.5l.94-2.06 2.06-.94-2.06-.94L8.5 2.5l-.94 2.06-2.06.94zm10 10l.94 2.06.94-2.06 2.06-.94-2.06-.94-.94-2.06-.94 2.06-2.06.94z\"/><path d=\"M17.41 7.96l-1.37-1.37c-.4-.4-.92-.59-1.43-.59-.52 0-1.04.2-1.43.59L10.3 9.45l-7.72 7.72c-.78.78-.78 2.05 0 2.83L4 21.41c.39.39.9.59 1.41.59.51 0 1.02-.2 1.41-.59l7.78-7.78 2.81-2.81c.8-.78.8-2.07 0-2.86zM5.41 20L4 18.59l7.72-7.72 1.47 1.35L5.41 20z\"/>\n",
       "  </svg>\n",
       "      </button>\n",
       "      \n",
       "  <style>\n",
       "    .colab-df-container {\n",
       "      display:flex;\n",
       "      flex-wrap:wrap;\n",
       "      gap: 12px;\n",
       "    }\n",
       "\n",
       "    .colab-df-convert {\n",
       "      background-color: #E8F0FE;\n",
       "      border: none;\n",
       "      border-radius: 50%;\n",
       "      cursor: pointer;\n",
       "      display: none;\n",
       "      fill: #1967D2;\n",
       "      height: 32px;\n",
       "      padding: 0 0 0 0;\n",
       "      width: 32px;\n",
       "    }\n",
       "\n",
       "    .colab-df-convert:hover {\n",
       "      background-color: #E2EBFA;\n",
       "      box-shadow: 0px 1px 2px rgba(60, 64, 67, 0.3), 0px 1px 3px 1px rgba(60, 64, 67, 0.15);\n",
       "      fill: #174EA6;\n",
       "    }\n",
       "\n",
       "    [theme=dark] .colab-df-convert {\n",
       "      background-color: #3B4455;\n",
       "      fill: #D2E3FC;\n",
       "    }\n",
       "\n",
       "    [theme=dark] .colab-df-convert:hover {\n",
       "      background-color: #434B5C;\n",
       "      box-shadow: 0px 1px 3px 1px rgba(0, 0, 0, 0.15);\n",
       "      filter: drop-shadow(0px 1px 2px rgba(0, 0, 0, 0.3));\n",
       "      fill: #FFFFFF;\n",
       "    }\n",
       "  </style>\n",
       "\n",
       "      <script>\n",
       "        const buttonEl =\n",
       "          document.querySelector('#df-1a249dc7-26b9-4b77-b6bb-fa6ea13244f5 button.colab-df-convert');\n",
       "        buttonEl.style.display =\n",
       "          google.colab.kernel.accessAllowed ? 'block' : 'none';\n",
       "\n",
       "        async function convertToInteractive(key) {\n",
       "          const element = document.querySelector('#df-1a249dc7-26b9-4b77-b6bb-fa6ea13244f5');\n",
       "          const dataTable =\n",
       "            await google.colab.kernel.invokeFunction('convertToInteractive',\n",
       "                                                     [key], {});\n",
       "          if (!dataTable) return;\n",
       "\n",
       "          const docLinkHtml = 'Like what you see? Visit the ' +\n",
       "            '<a target=\"_blank\" href=https://colab.research.google.com/notebooks/data_table.ipynb>data table notebook</a>'\n",
       "            + ' to learn more about interactive tables.';\n",
       "          element.innerHTML = '';\n",
       "          dataTable['output_type'] = 'display_data';\n",
       "          await google.colab.output.renderOutput(dataTable, element);\n",
       "          const docLink = document.createElement('div');\n",
       "          docLink.innerHTML = docLinkHtml;\n",
       "          element.appendChild(docLink);\n",
       "        }\n",
       "      </script>\n",
       "    </div>\n",
       "  </div>\n",
       "  "
      ],
      "text/plain": [
       "           Date    Open     High      Low    Close   Volume\n",
       "2445  16-Mar-22  3640.5  3668.00  3616.25  3655.90  3090475\n",
       "2446  17-Mar-22  3696.6  3710.00  3660.30  3672.75  3600452\n",
       "2447  21-Mar-22  3696.0  3713.95  3615.00  3626.70  2413831\n",
       "2448  22-Mar-22  3640.0  3711.00  3625.00  3700.95  2907611\n",
       "2449  23-Mar-22  3708.0  3729.80  3690.00  3712.40  1596195"
      ]
     },
     "execution_count": 7,
     "metadata": {},
     "output_type": "execute_result"
    }
   ],
   "source": [
    "dataset_train.tail()"
   ]
  },
  {
   "cell_type": "code",
   "execution_count": 9,
   "metadata": {
    "id": "t-7QUVQxcXQb"
   },
   "outputs": [],
   "source": []
  },
  {
   "cell_type": "code",
   "execution_count": 7,
   "metadata": {
    "colab": {
     "base_uri": "https://localhost:8080/"
    },
    "id": "y-9jKS38NHZm",
    "outputId": "6b4f13e1-a1b4-4acd-9515-88afa703734c"
   },
   "outputs": [
    {
     "data": {
      "text/plain": [
       "(2450, 6)"
      ]
     },
     "execution_count": 7,
     "metadata": {},
     "output_type": "execute_result"
    }
   ],
   "source": [
    "dataset_train.shape"
   ]
  },
  {
   "cell_type": "code",
   "execution_count": 8,
   "metadata": {
    "colab": {
     "base_uri": "https://localhost:8080/",
     "height": 340
    },
    "id": "B8CXL-mIV79M",
    "outputId": "de4089ee-2bc0-4ece-ccdd-a2f75bd6aed4"
   },
   "outputs": [
    {
     "data": {
      "text/plain": [
       "<matplotlib.axes._subplots.AxesSubplot at 0x7fe8b33d5910>"
      ]
     },
     "execution_count": 8,
     "metadata": {},
     "output_type": "execute_result"
    },
    {
     "data": {
      "image/png": "[encoded data removed]",
      "text/plain": [
       "<Figure size 1152x432 with 1 Axes>"
      ]
     },
     "metadata": {
      "needs_background": "light"
     },
     "output_type": "display_data"
    }
   ],
   "source": [
    "dataset = pd.read_csv('/content/drive/MyDrive/Stock_predict/TCS_stock_Train_data.csv',index_col=\"Date\",parse_dates=True)\n",
    "dataset['Open'].plot(figsize=(16,6))"
   ]
  },
  {
   "cell_type": "code",
   "execution_count": 31,
   "metadata": {
    "colab": {
     "base_uri": "https://localhost:8080/",
     "height": 356
    },
    "id": "yW-NIC-CdXt8",
    "outputId": "621b7f42-1a6d-4e50-ff91-929537dc7287"
   },
   "outputs": [
    {
     "data": {
      "text/plain": [
       "<matplotlib.axes._subplots.AxesSubplot at 0x7fc6dc8357d0>"
      ]
     },
     "execution_count": 31,
     "metadata": {},
     "output_type": "execute_result"
    },
    {
     "data": {
      "image/png": "[encoded data removed]",
      "text/plain": [
       "<Figure size 1152x432 with 1 Axes>"
      ]
     },
     "metadata": {
      "needs_background": "light"
     },
     "output_type": "display_data"
    }
   ],
   "source": [
    "dataset = pd.read_csv('/content/drive/MyDrive/Stock_predict/TCS_stock_Train_data.csv',index_col=\"Date\",parse_dates=True)\n",
    "dataset['Volume'].plot(figsize=(16,6))"
   ]
  },
  {
   "cell_type": "markdown",
   "metadata": {
    "id": "7Y2owdbyNaFJ"
   },
   "source": [
    "### Feature Scaling "
   ]
  },
  {
   "cell_type": "code",
   "execution_count": 9,
   "metadata": {
    "id": "CTB0skKSNbXY"
   },
   "outputs": [],
   "source": [
    "from sklearn.preprocessing import MinMaxScaler\n",
    "sc = MinMaxScaler(feature_range=(0,1))\n",
    "training_set_scaled = sc.fit_transform(training_set)"
   ]
  },
  {
   "cell_type": "markdown",
   "metadata": {
    "id": "6Xo9YsBaONWM"
   },
   "source": [
    "## Creating a data structure with 60 timesteps and 1 output"
   ]
  },
  {
   "cell_type": "markdown",
   "metadata": {
    "id": "FIr8sFbFN0Xp"
   },
   "source": [
    "Timesteps = 60\n",
    "\n",
    "60 time steps means that at each time 't' the RNN is going to look at the 60 stock prices.\n",
    "\n",
    "Before time 't' that is the stock price is between 60 days before time 't' .\n",
    "\n",
    "And based on the trends it is capturing during the 60 time steps will try to predict the next output. \n",
    "\n",
    "So 60 time steps are the past information from which our RNN is going to try to learn and understand some correlations or some trends.\n",
    "\n",
    "\n",
    "\n"
   ]
  },
  {
   "cell_type": "code",
   "execution_count": 10,
   "metadata": {
    "id": "9_0FB5GcOfnW"
   },
   "outputs": [],
   "source": [
    "X_train = []\n",
    "y_train = []\n",
    "\n",
    "for i in range(60,2450):\n",
    "    X_train.append(training_set_scaled[i-60:i,:])\n",
    "    y_train.append(training_set_scaled[i,0])"
   ]
  },
  {
   "cell_type": "code",
   "execution_count": 11,
   "metadata": {
    "id": "gbZ92f1zgDsW"
   },
   "outputs": [],
   "source": [
    "X_train, y_train = np.array(X_train), np.array(y_train)"
   ]
  },
  {
   "cell_type": "code",
   "execution_count": 12,
   "metadata": {
    "colab": {
     "base_uri": "https://localhost:8080/"
    },
    "id": "WeWwRe_-hRfJ",
    "outputId": "c5d561f2-323f-462a-f209-936ea7a0dd43"
   },
   "outputs": [
    {
     "data": {
      "text/plain": [
       "((2390, 60, 5), (2390,))"
      ]
     },
     "execution_count": 12,
     "metadata": {},
     "output_type": "execute_result"
    }
   ],
   "source": [
    "X_train.shape, y_train.shape"
   ]
  },
  {
   "cell_type": "code",
   "execution_count": 13,
   "metadata": {
    "colab": {
     "base_uri": "https://localhost:8080/"
    },
    "id": "T-vFxiSNnGNM",
    "outputId": "750fa90f-9cfc-486f-c8c5-cfe948f512c8"
   },
   "outputs": [
    {
     "data": {
      "text/plain": [
       "array([[[0.01659064, 0.02466004, 0.06396581, 0.02871261, 0.04460134],\n",
       "        [0.02384684, 0.02807722, 0.06958974, 0.03303627, 0.03752808],\n",
       "        [0.02994065, 0.03200521, 0.07112821, 0.0320833 , 0.03994591],\n",
       "        ...,\n",
       "        [0.00211346, 0.00831396, 0.04967521, 0.01311215, 0.03774741],\n",
       "        [0.00457916, 0.00803213, 0.04991453, 0.01000618, 0.03235005],\n",
       "        [0.00461438, 0.00502008, 0.0485812 , 0.00820612, 0.01808928]],\n",
       "\n",
       "       [[0.02384684, 0.02807722, 0.06958974, 0.03303627, 0.03752808],\n",
       "        [0.02994065, 0.03200521, 0.07112821, 0.0320833 , 0.03994591],\n",
       "        [0.02289579, 0.02610442, 0.06611966, 0.03083032, 0.02922049],\n",
       "        ...,\n",
       "        [0.00457916, 0.00803213, 0.04991453, 0.01000618, 0.03235005],\n",
       "        [0.00461438, 0.00502008, 0.0485812 , 0.00820612, 0.01808928],\n",
       "        [0.00317019, 0.00443881, 0.04851282, 0.00961793, 0.0182931 ]],\n",
       "\n",
       "       [[0.02994065, 0.03200521, 0.07112821, 0.0320833 , 0.03994591],\n",
       "        [0.02289579, 0.02610442, 0.06611966, 0.03083032, 0.02922049],\n",
       "        [0.01056729, 0.01067428, 0.04808547, 0.00522368, 0.10879925],\n",
       "        ...,\n",
       "        [0.00461438, 0.00502008, 0.0485812 , 0.00820612, 0.01808928],\n",
       "        [0.00317019, 0.00443881, 0.04851282, 0.00961793, 0.0182931 ],\n",
       "        [0.00634037, 0.00584795, 0.04622222, 0.00442954, 0.03283349]],\n",
       "\n",
       "       ...,\n",
       "\n",
       "       [[0.85559802, 0.85690129, 0.87222222, 0.86291362, 0.02718545],\n",
       "        [0.86405185, 0.86877334, 0.88034188, 0.87419042, 0.04010502],\n",
       "        [0.87708484, 0.88092722, 0.88540171, 0.87708462, 0.04958251],\n",
       "        ...,\n",
       "        [0.86792652, 0.86472205, 0.86509402, 0.84990735, 0.08233314],\n",
       "        [0.86141003, 0.86789262, 0.87564103, 0.87179035, 0.06959252],\n",
       "        [0.88117086, 0.88268865, 0.89070085, 0.87773758, 0.08118145]],\n",
       "\n",
       "       [[0.86405185, 0.86877334, 0.88034188, 0.87419042, 0.04010502],\n",
       "        [0.87708484, 0.88092722, 0.88540171, 0.87708462, 0.04958251],\n",
       "        [0.87215344, 0.87916579, 0.88823932, 0.885979  , 0.03422563],\n",
       "        ...,\n",
       "        [0.86141003, 0.86789262, 0.87564103, 0.87179035, 0.06959252],\n",
       "        [0.88117086, 0.88268865, 0.89070085, 0.87773758, 0.08118145],\n",
       "        [0.88095951, 0.88408018, 0.87521368, 0.86148416, 0.05421619]],\n",
       "\n",
       "       [[0.87708484, 0.88092722, 0.88540171, 0.87708462, 0.04958251],\n",
       "        [0.87215344, 0.87916579, 0.88823932, 0.885979  , 0.03422563],\n",
       "        [0.88589091, 0.88797294, 0.90217094, 0.88966734, 0.03245501],\n",
       "        ...,\n",
       "        [0.88117086, 0.88268865, 0.89070085, 0.87773758, 0.08118145],\n",
       "        [0.88095951, 0.88408018, 0.87521368, 0.86148416, 0.05421619],\n",
       "        [0.86123391, 0.88304094, 0.87863248, 0.88769081, 0.06543705]]])"
      ]
     },
     "execution_count": 13,
     "metadata": {},
     "output_type": "execute_result"
    }
   ],
   "source": [
    "X_train"
   ]
  },
  {
   "cell_type": "code",
   "execution_count": 14,
   "metadata": {
    "colab": {
     "base_uri": "https://localhost:8080/"
    },
    "id": "V3K3pksEnMko",
    "outputId": "11465f9b-4d45-48a1-e7e9-950dd0883c2b"
   },
   "outputs": [
    {
     "data": {
      "text/plain": [
       "array([0.00317019, 0.00634037, 0.00704486, ..., 0.88095951, 0.86123391,\n",
       "       0.88518642])"
      ]
     },
     "execution_count": 14,
     "metadata": {},
     "output_type": "execute_result"
    }
   ],
   "source": [
    "y_train"
   ]
  },
  {
   "cell_type": "code",
   "execution_count": 15,
   "metadata": {
    "colab": {
     "base_uri": "https://localhost:8080/"
    },
    "id": "YQ5YD7nNO6fv",
    "outputId": "55682e21-8806-433a-98d7-509944a7c4d5"
   },
   "outputs": [
    {
     "data": {
      "text/plain": [
       "(2390, 60, 5)"
      ]
     },
     "execution_count": 15,
     "metadata": {},
     "output_type": "execute_result"
    }
   ],
   "source": [
    "#Reshaping\n",
    "\n",
    "X_train = np.reshape(X_train,(X_train.shape[0],X_train.shape[1], 5))\n",
    "X_train.shape\n"
   ]
  },
  {
   "cell_type": "markdown",
   "metadata": {
    "id": "Nzt6zAGMPHly"
   },
   "source": [
    "### Building the RNN"
   ]
  },
  {
   "cell_type": "code",
   "execution_count": 16,
   "metadata": {
    "id": "83hc-s5KPK_n"
   },
   "outputs": [],
   "source": [
    "from keras.models import Sequential # Sequential Model\n",
    "from keras.layers import Dense\n",
    "from keras.layers import LSTM\n",
    "from keras.layers import Dropout #to avoid overfitting"
   ]
  },
  {
   "cell_type": "code",
   "execution_count": 17,
   "metadata": {
    "id": "ZT0lxCLpRjlJ"
   },
   "outputs": [],
   "source": [
    "# since predicting a continuous value, dealing with continuous values\n",
    "regressor = Sequential() \n",
    "    \n",
    "#adding first LSTM and dropout to avoid overfitting\n",
    "# since we are going to add another LSTM layer\n",
    "regressor.add(LSTM(units = 50, return_sequences=True, input_shape = (X_train.shape[1], 5))) \n",
    "regressor.add(Dropout(0.2))\n",
    "    \n",
    "#adding second LSTM and dropout to avoid overfitting\n",
    "regressor.add(LSTM(units = 50, return_sequences=True)) \n",
    "regressor.add(Dropout(0.2))\n",
    "     \n",
    "#adding third LSTM and dropout to avoid overfitting\n",
    "regressor.add(LSTM(units = 50, return_sequences=True)) \n",
    "regressor.add(Dropout(0.2))\n",
    "     \n",
    "#adding fourth LSTM and dropout to avoid overfitting\n",
    "regressor.add(LSTM(units = 50)) \n",
    "regressor.add(Dropout(0.2))\n",
    "    \n",
    "#adding the output layer\n",
    "regressor.add(Dense(units=1))"
   ]
  },
  {
   "cell_type": "code",
   "execution_count": 18,
   "metadata": {
    "id": "cHDIbCiDSDI0"
   },
   "outputs": [],
   "source": [
    "#compiling the RNN\n",
    "\n",
    "regressor.compile(optimizer='adam', loss = 'mean_squared_error')   "
   ]
  },
  {
   "cell_type": "code",
   "execution_count": 49,
   "metadata": {
    "colab": {
     "base_uri": "https://localhost:8080/"
    },
    "id": "2xL4NwRuS3vd",
    "outputId": "590ca964-ef8d-4430-b64f-6358cd54514e"
   },
   "outputs": [
    {
     "name": "stdout",
     "output_type": "stream",
     "text": [
      "Epoch 1/100\n",
      "75/75 [==============================] - 7s 14ms/step - loss: 0.0183\n",
      "Epoch 2/100\n",
      "75/75 [==============================] - 1s 13ms/step - loss: 0.0055\n",
      "Epoch 3/100\n",
      "75/75 [==============================] - 1s 13ms/step - loss: 0.0050\n",
      "Epoch 4/100\n",
      "75/75 [==============================] - 1s 13ms/step - loss: 0.0046\n",
      "Epoch 5/100\n",
      "75/75 [==============================] - 1s 13ms/step - loss: 0.0043\n",
      "Epoch 6/100\n",
      "75/75 [==============================] - 1s 13ms/step - loss: 0.0040\n",
      "Epoch 7/100\n",
      "75/75 [==============================] - 1s 13ms/step - loss: 0.0038\n",
      "Epoch 8/100\n",
      "75/75 [==============================] - 1s 13ms/step - loss: 0.0039\n",
      "Epoch 9/100\n",
      "75/75 [==============================] - 1s 13ms/step - loss: 0.0032\n",
      "Epoch 10/100\n",
      "75/75 [==============================] - 1s 13ms/step - loss: 0.0032\n",
      "Epoch 11/100\n",
      "75/75 [==============================] - 1s 13ms/step - loss: 0.0030\n",
      "Epoch 12/100\n",
      "75/75 [==============================] - 1s 13ms/step - loss: 0.0029\n",
      "Epoch 13/100\n",
      "75/75 [==============================] - 1s 13ms/step - loss: 0.0032\n",
      "Epoch 14/100\n",
      "75/75 [==============================] - 1s 13ms/step - loss: 0.0026\n",
      "Epoch 15/100\n",
      "75/75 [==============================] - 1s 13ms/step - loss: 0.0028\n",
      "Epoch 16/100\n",
      "75/75 [==============================] - 1s 13ms/step - loss: 0.0027\n",
      "Epoch 17/100\n",
      "75/75 [==============================] - 1s 13ms/step - loss: 0.0026\n",
      "Epoch 18/100\n",
      "75/75 [==============================] - 1s 13ms/step - loss: 0.0025\n",
      "Epoch 19/100\n",
      "75/75 [==============================] - 1s 18ms/step - loss: 0.0025\n",
      "Epoch 20/100\n",
      "75/75 [==============================] - 2s 21ms/step - loss: 0.0023\n",
      "Epoch 21/100\n",
      "75/75 [==============================] - 1s 13ms/step - loss: 0.0022\n",
      "Epoch 22/100\n",
      "75/75 [==============================] - 1s 13ms/step - loss: 0.0021\n",
      "Epoch 23/100\n",
      "75/75 [==============================] - 1s 13ms/step - loss: 0.0020\n",
      "Epoch 24/100\n",
      "75/75 [==============================] - 1s 14ms/step - loss: 0.0022\n",
      "Epoch 25/100\n",
      "75/75 [==============================] - 1s 14ms/step - loss: 0.0020\n",
      "Epoch 26/100\n",
      "75/75 [==============================] - 1s 14ms/step - loss: 0.0018\n",
      "Epoch 27/100\n",
      "75/75 [==============================] - 1s 14ms/step - loss: 0.0019\n",
      "Epoch 28/100\n",
      "75/75 [==============================] - 1s 14ms/step - loss: 0.0017\n",
      "Epoch 29/100\n",
      "75/75 [==============================] - 1s 13ms/step - loss: 0.0017\n",
      "Epoch 30/100\n",
      "75/75 [==============================] - 1s 14ms/step - loss: 0.0016\n",
      "Epoch 31/100\n",
      "75/75 [==============================] - 1s 14ms/step - loss: 0.0016\n",
      "Epoch 32/100\n",
      "75/75 [==============================] - 1s 14ms/step - loss: 0.0014\n",
      "Epoch 33/100\n",
      "75/75 [==============================] - 1s 13ms/step - loss: 0.0015\n",
      "Epoch 34/100\n",
      "75/75 [==============================] - 1s 13ms/step - loss: 0.0013\n",
      "Epoch 35/100\n",
      "75/75 [==============================] - 1s 13ms/step - loss: 0.0015\n",
      "Epoch 36/100\n",
      "75/75 [==============================] - 1s 13ms/step - loss: 0.0015\n",
      "Epoch 37/100\n",
      "75/75 [==============================] - 1s 13ms/step - loss: 0.0014\n",
      "Epoch 38/100\n",
      "75/75 [==============================] - 1s 13ms/step - loss: 0.0014\n",
      "Epoch 39/100\n",
      "75/75 [==============================] - 1s 13ms/step - loss: 0.0013\n",
      "Epoch 40/100\n",
      "75/75 [==============================] - 1s 14ms/step - loss: 0.0012\n",
      "Epoch 41/100\n",
      "75/75 [==============================] - 1s 13ms/step - loss: 0.0014\n",
      "Epoch 42/100\n",
      "75/75 [==============================] - 1s 13ms/step - loss: 0.0014\n",
      "Epoch 43/100\n",
      "75/75 [==============================] - 1s 13ms/step - loss: 0.0011\n",
      "Epoch 44/100\n",
      "75/75 [==============================] - 1s 13ms/step - loss: 0.0013\n",
      "Epoch 45/100\n",
      "75/75 [==============================] - 1s 13ms/step - loss: 0.0011\n",
      "Epoch 46/100\n",
      "75/75 [==============================] - 1s 13ms/step - loss: 0.0011\n",
      "Epoch 47/100\n",
      "75/75 [==============================] - 1s 13ms/step - loss: 0.0011\n",
      "Epoch 48/100\n",
      "75/75 [==============================] - 1s 13ms/step - loss: 0.0010\n",
      "Epoch 49/100\n",
      "75/75 [==============================] - 1s 13ms/step - loss: 0.0013\n",
      "Epoch 50/100\n",
      "75/75 [==============================] - 1s 13ms/step - loss: 0.0010\n",
      "Epoch 51/100\n",
      "75/75 [==============================] - 1s 13ms/step - loss: 0.0010\n",
      "Epoch 52/100\n",
      "75/75 [==============================] - 1s 13ms/step - loss: 0.0010\n",
      "Epoch 53/100\n",
      "75/75 [==============================] - 1s 13ms/step - loss: 9.4306e-04\n",
      "Epoch 54/100\n",
      "75/75 [==============================] - 1s 13ms/step - loss: 9.9882e-04\n",
      "Epoch 55/100\n",
      "75/75 [==============================] - 1s 14ms/step - loss: 0.0010\n",
      "Epoch 56/100\n",
      "75/75 [==============================] - 1s 13ms/step - loss: 9.7010e-04\n",
      "Epoch 57/100\n",
      "75/75 [==============================] - 1s 14ms/step - loss: 9.8187e-04\n",
      "Epoch 58/100\n",
      "75/75 [==============================] - 1s 14ms/step - loss: 8.8671e-04\n",
      "Epoch 59/100\n",
      "75/75 [==============================] - 1s 13ms/step - loss: 8.5616e-04\n",
      "Epoch 60/100\n",
      "75/75 [==============================] - 1s 13ms/step - loss: 9.4710e-04\n",
      "Epoch 61/100\n",
      "75/75 [==============================] - 1s 13ms/step - loss: 8.6865e-04\n",
      "Epoch 62/100\n",
      "75/75 [==============================] - 1s 13ms/step - loss: 8.4790e-04\n",
      "Epoch 63/100\n",
      "75/75 [==============================] - 1s 13ms/step - loss: 8.2122e-04\n",
      "Epoch 64/100\n",
      "75/75 [==============================] - 1s 13ms/step - loss: 9.6308e-04\n",
      "Epoch 65/100\n",
      "75/75 [==============================] - 1s 13ms/step - loss: 8.8378e-04\n",
      "Epoch 66/100\n",
      "75/75 [==============================] - 1s 13ms/step - loss: 8.0623e-04\n",
      "Epoch 67/100\n",
      "75/75 [==============================] - 1s 13ms/step - loss: 9.2785e-04\n",
      "Epoch 68/100\n",
      "75/75 [==============================] - 1s 13ms/step - loss: 8.4270e-04\n",
      "Epoch 69/100\n",
      "75/75 [==============================] - 1s 13ms/step - loss: 8.5157e-04\n",
      "Epoch 70/100\n",
      "75/75 [==============================] - 1s 13ms/step - loss: 8.8483e-04\n",
      "Epoch 71/100\n",
      "75/75 [==============================] - 1s 13ms/step - loss: 7.6590e-04\n",
      "Epoch 72/100\n",
      "75/75 [==============================] - 1s 13ms/step - loss: 6.9639e-04\n",
      "Epoch 73/100\n",
      "75/75 [==============================] - 1s 13ms/step - loss: 8.0006e-04\n",
      "Epoch 74/100\n",
      "75/75 [==============================] - 1s 13ms/step - loss: 8.5415e-04\n",
      "Epoch 75/100\n",
      "75/75 [==============================] - 1s 14ms/step - loss: 7.7257e-04\n",
      "Epoch 76/100\n",
      "75/75 [==============================] - 1s 14ms/step - loss: 9.0614e-04\n",
      "Epoch 77/100\n",
      "75/75 [==============================] - 1s 14ms/step - loss: 8.8869e-04\n",
      "Epoch 78/100\n",
      "75/75 [==============================] - 1s 14ms/step - loss: 7.8119e-04\n",
      "Epoch 79/100\n",
      "75/75 [==============================] - 1s 14ms/step - loss: 7.6451e-04\n",
      "Epoch 80/100\n",
      "75/75 [==============================] - 1s 14ms/step - loss: 8.2837e-04\n",
      "Epoch 81/100\n",
      "75/75 [==============================] - 1s 14ms/step - loss: 7.3958e-04\n",
      "Epoch 82/100\n",
      "75/75 [==============================] - 1s 14ms/step - loss: 8.0560e-04\n",
      "Epoch 83/100\n",
      "75/75 [==============================] - 1s 14ms/step - loss: 8.2136e-04\n",
      "Epoch 84/100\n",
      "75/75 [==============================] - 1s 14ms/step - loss: 8.1806e-04\n",
      "Epoch 85/100\n",
      "75/75 [==============================] - 1s 14ms/step - loss: 8.5731e-04\n",
      "Epoch 86/100\n",
      "75/75 [==============================] - 1s 13ms/step - loss: 6.7174e-04\n",
      "Epoch 87/100\n",
      "75/75 [==============================] - 1s 14ms/step - loss: 7.7595e-04\n",
      "Epoch 88/100\n",
      "75/75 [==============================] - 1s 14ms/step - loss: 7.3677e-04\n",
      "Epoch 89/100\n",
      "75/75 [==============================] - 1s 13ms/step - loss: 7.8695e-04\n",
      "Epoch 90/100\n",
      "75/75 [==============================] - 1s 13ms/step - loss: 7.1821e-04\n",
      "Epoch 91/100\n",
      "75/75 [==============================] - 1s 13ms/step - loss: 7.6571e-04\n",
      "Epoch 92/100\n",
      "75/75 [==============================] - 1s 13ms/step - loss: 7.7710e-04\n",
      "Epoch 93/100\n",
      "75/75 [==============================] - 1s 13ms/step - loss: 6.6091e-04\n",
      "Epoch 94/100\n",
      "75/75 [==============================] - 1s 13ms/step - loss: 8.2789e-04\n",
      "Epoch 95/100\n",
      "75/75 [==============================] - 1s 13ms/step - loss: 7.6781e-04\n",
      "Epoch 96/100\n",
      "75/75 [==============================] - 1s 13ms/step - loss: 7.2420e-04\n",
      "Epoch 97/100\n",
      "75/75 [==============================] - 1s 13ms/step - loss: 7.1218e-04\n",
      "Epoch 98/100\n",
      "75/75 [==============================] - 1s 13ms/step - loss: 8.1025e-04\n",
      "Epoch 99/100\n",
      "75/75 [==============================] - 1s 13ms/step - loss: 6.6265e-04\n",
      "Epoch 100/100\n",
      "75/75 [==============================] - 1s 13ms/step - loss: 7.5715e-04\n"
     ]
    },
    {
     "data": {
      "text/plain": [
       "<keras.callbacks.History at 0x7fe7be2f6cd0>"
      ]
     },
     "execution_count": 49,
     "metadata": {},
     "output_type": "execute_result"
    }
   ],
   "source": [
    "#Fitting RNN\n",
    "#100 for much higher accuracy\n",
    "\n",
    "regressor.fit(X_train, y_train, epochs = 100, batch_size = 32)"
   ]
  },
  {
   "cell_type": "markdown",
   "metadata": {
    "id": "uc7eD3O9S_lB"
   },
   "source": [
    "### Making the predictions and viewing results"
   ]
  },
  {
   "cell_type": "code",
   "execution_count": 19,
   "metadata": {
    "id": "IM82dwYPTBeu"
   },
   "outputs": [],
   "source": [
    "#Getting real stock price of 2022\n",
    "\n",
    "dataset_test= pd.read_csv('/content/drive/MyDrive/Stock_predict/TCS_stock_Test_data.csv')\n",
    "real_stock_price = dataset_test.iloc[:,1:].values"
   ]
  },
  {
   "cell_type": "code",
   "execution_count": 21,
   "metadata": {
    "colab": {
     "base_uri": "https://localhost:8080/"
    },
    "id": "qWCD4Gwn5jYN",
    "outputId": "d92bf2ac-5057-4420-c330-9e258487543d"
   },
   "outputs": [
    {
     "data": {
      "text/plain": [
       "array([[1.242100e+03, 1.274400e+03, 1.242100e+03, 1.267250e+03,\n",
       "        1.990724e+06],\n",
       "       [1.262700e+03, 1.284100e+03, 1.258550e+03, 1.279500e+03,\n",
       "        1.679461e+06],\n",
       "       [1.280000e+03, 1.295250e+03, 1.263050e+03, 1.276800e+03,\n",
       "        1.785859e+06],\n",
       "       ...,\n",
       "       [3.696000e+03, 3.713950e+03, 3.615000e+03, 3.626700e+03,\n",
       "        2.413831e+06],\n",
       "       [3.640000e+03, 3.711000e+03, 3.625000e+03, 3.700950e+03,\n",
       "        2.907611e+06],\n",
       "       [3.708000e+03, 3.729800e+03, 3.690000e+03, 3.712400e+03,\n",
       "        1.596195e+06]])"
      ]
     },
     "execution_count": 21,
     "metadata": {},
     "output_type": "execute_result"
    }
   ],
   "source": [
    "training_set"
   ]
  },
  {
   "cell_type": "code",
   "execution_count": 22,
   "metadata": {
    "colab": {
     "base_uri": "https://localhost:8080/"
    },
    "id": "T4oREnakp8pb",
    "outputId": "4c143148-ea51-4202-e790-0a84ed7649fa"
   },
   "outputs": [
    {
     "data": {
      "text/plain": [
       "array([[3.700000e+03, 3.758200e+03, 3.695000e+03, 3.749850e+03,\n",
       "        1.879046e+06],\n",
       "       [3.759900e+03, 3.779500e+03, 3.672000e+03, 3.707450e+03,\n",
       "        1.690133e+06],\n",
       "       [3.695000e+03, 3.713000e+03, 3.661200e+03, 3.707700e+03,\n",
       "        1.760990e+06],\n",
       "       [3.694750e+03, 3.722000e+03, 3.691000e+03, 3.705350e+03,\n",
       "        2.689063e+06],\n",
       "       [3.738000e+03, 3.738000e+03, 3.706200e+03, 3.731550e+03,\n",
       "        1.583455e+06],\n",
       "       [3.740000e+03, 3.754650e+03, 3.720200e+03, 3.739950e+03,\n",
       "        2.168110e+06],\n",
       "       [3.748000e+03, 3.763000e+03, 3.728050e+03, 3.758750e+03,\n",
       "        1.387014e+06],\n",
       "       [3.762000e+03, 3.780000e+03, 3.737100e+03, 3.770350e+03,\n",
       "        1.472994e+06],\n",
       "       [3.772000e+03, 3.835600e+03, 3.772000e+03, 3.814800e+03,\n",
       "        2.314947e+06],\n",
       "       [3.809300e+03, 3.809300e+03, 3.731150e+03, 3.755350e+03,\n",
       "        2.051729e+06],\n",
       "       [3.745500e+03, 3.745500e+03, 3.679000e+03, 3.684150e+03,\n",
       "        2.494829e+06],\n",
       "       [3.690000e+03, 3.705000e+03, 3.642500e+03, 3.685650e+03,\n",
       "        2.296773e+06],\n",
       "       [3.690000e+03, 3.712350e+03, 3.656100e+03, 3.696400e+03,\n",
       "        2.291660e+06],\n",
       "       [3.683000e+03, 3.739000e+03, 3.648350e+03, 3.691100e+03,\n",
       "        4.483476e+06],\n",
       "       [3.707000e+03, 3.709850e+03, 3.655550e+03, 3.661950e+03,\n",
       "        1.621672e+06],\n",
       "       [3.610000e+03, 3.610000e+03, 3.522500e+03, 3.528050e+03,\n",
       "        3.820792e+06],\n",
       "       [3.550000e+03, 3.563550e+03, 3.439150e+03, 3.471900e+03,\n",
       "        3.170014e+06],\n",
       "       [3.500000e+03, 3.569150e+03, 3.480000e+03, 3.556800e+03,\n",
       "        2.640370e+06],\n",
       "       [3.580000e+03, 3.644000e+03, 3.567400e+03, 3.628650e+03,\n",
       "        2.280996e+06],\n",
       "       [3.581100e+03, 3.617000e+03, 3.571500e+03, 3.612550e+03,\n",
       "        1.581465e+06]])"
      ]
     },
     "execution_count": 22,
     "metadata": {},
     "output_type": "execute_result"
    }
   ],
   "source": [
    "real_stock_price"
   ]
  },
  {
   "cell_type": "code",
   "execution_count": 36,
   "metadata": {
    "id": "TkPnvP0f7coj"
   },
   "outputs": [],
   "source": [
    "#Getting the predicted stock price of 2022"
   ]
  },
  {
   "cell_type": "code",
   "execution_count": 24,
   "metadata": {
    "id": "2OlCa-KaquTJ"
   },
   "outputs": [],
   "source": [
    "dataset_total = pd.concat((dataset_train,dataset_test), axis=0)\n"
   ]
  },
  {
   "cell_type": "code",
   "execution_count": 33,
   "metadata": {
    "id": "s1ifue1T6MLu"
   },
   "outputs": [],
   "source": [
    "dataset_total.drop('Date', axis=1, inplace=True)"
   ]
  },
  {
   "cell_type": "code",
   "execution_count": 34,
   "metadata": {
    "colab": {
     "base_uri": "https://localhost:8080/"
    },
    "id": "fo6YFRF8tK8I",
    "outputId": "a4a33654-b97b-43b6-868f-a701a2bba604"
   },
   "outputs": [
    {
     "data": {
      "text/plain": [
       "(80, 5)"
      ]
     },
     "execution_count": 34,
     "metadata": {},
     "output_type": "execute_result"
    }
   ],
   "source": [
    "inputs = dataset_total[ len(dataset_total) - len(dataset_test) -60:].values\n",
    "inputs.shape"
   ]
  },
  {
   "cell_type": "code",
   "execution_count": 35,
   "metadata": {
    "colab": {
     "base_uri": "https://localhost:8080/"
    },
    "id": "fvGOO7ykqtbR",
    "outputId": "54b1063c-22fe-42b5-a121-a4b3e3364e3d"
   },
   "outputs": [
    {
     "data": {
      "text/plain": [
       "array([[0.87215344, 0.87916579, 0.88823932, 0.885979  , 0.03422563],\n",
       "       [0.88589091, 0.88797294, 0.90217094, 0.88966734, 0.03245501],\n",
       "       [0.8796386 , 0.8861939 , 0.8991453 , 0.88548487, 0.03247103],\n",
       "       [0.87579915, 0.89325724, 0.8974359 , 0.89926763, 0.0440503 ],\n",
       "       [0.89744448, 0.90030297, 0.91497436, 0.9008912 , 0.02679489],\n",
       "       [0.89998063, 0.92496301, 0.91965812, 0.92891556, 0.05267837],\n",
       "       [0.92854753, 0.94580075, 0.94246154, 0.95256331, 0.05591541],\n",
       "       [0.94048856, 0.93905446, 0.94270085, 0.94416306, 0.03874542],\n",
       "       [0.92181969, 0.92672444, 0.92888889, 0.92528016, 0.04050115],\n",
       "       [0.92463763, 0.9372578 , 0.93723077, 0.94153357, 0.05527879],\n",
       "       [0.98029201, 0.97710139, 0.95931624, 0.95083385, 0.08883139],\n",
       "       [0.93731837, 0.95843021, 0.95760684, 0.96355775, 0.04267845],\n",
       "       [0.96162314, 0.95983936, 0.95095726, 0.94379246, 0.07216649],\n",
       "       [0.95915743, 0.95772564, 0.95794872, 0.95720462, 0.15126475],\n",
       "       [0.94501488, 0.9767491 , 0.95899145, 0.98199947, 0.07544742],\n",
       "       [0.98546998, 1.        , 0.99394872, 1.        , 0.07759444],\n",
       "       [1.        , 0.99954203, 1.        , 0.98992323, 0.05365286],\n",
       "       [0.99226827, 0.98907912, 0.97623932, 0.96311656, 0.06986667],\n",
       "       [0.95633949, 0.95666878, 0.94222222, 0.93202153, 0.13972687],\n",
       "       [0.92005847, 0.93255478, 0.9285812 , 0.93447454, 0.0700898 ],\n",
       "       [0.93168249, 0.93188544, 0.91798291, 0.9125386 , 0.07340884],\n",
       "       [0.90684936, 0.91770591, 0.91186325, 0.91202682, 0.07504697],\n",
       "       [0.89328801, 0.89093215, 0.87866667, 0.86944322, 0.12930821],\n",
       "       [0.86334736, 0.88966392, 0.88581197, 0.88384364, 0.07080571],\n",
       "       [0.89962838, 0.89959839, 0.91158974, 0.90015   , 0.0616144 ],\n",
       "       [0.90702548, 0.91721271, 0.91671795, 0.92288008, 0.04720204],\n",
       "       [0.92742035, 0.93694075, 0.93868376, 0.94248654, 0.04445336],\n",
       "       [0.93555716, 0.94345804, 0.94394872, 0.93133327, 0.04391538],\n",
       "       [0.92298209, 0.92309589, 0.92786325, 0.92790964, 0.05179684],\n",
       "       [0.91442259, 0.92559713, 0.92347009, 0.91523868, 0.04297484],\n",
       "       [0.91461632, 0.91428873, 0.91145299, 0.90269126, 0.06631948],\n",
       "       [0.89998063, 0.90662651, 0.92003419, 0.90872673, 0.03660228],\n",
       "       [0.91399989, 0.9108011 , 0.92410256, 0.91218565, 0.0473677 ],\n",
       "       [0.90086123, 0.89766082, 0.9008547 , 0.88557311, 0.08688609],\n",
       "       [0.89082231, 0.91201649, 0.90769231, 0.89926763, 0.13461317],\n",
       "       [0.91266137, 0.92672444, 0.92068376, 0.9289332 , 0.08870847],\n",
       "       [0.93309146, 0.93345311, 0.94051282, 0.92727433, 0.07337457],\n",
       "       [0.92639884, 0.92672444, 0.93128205, 0.91707403, 0.07059006],\n",
       "       [0.90667324, 0.92001339, 0.92396581, 0.92049766, 0.08319099],\n",
       "       [0.9211152 , 0.92418798, 0.90617094, 0.89420277, 0.16902194],\n",
       "       [0.86475634, 0.86785739, 0.85982906, 0.84726021, 0.12226896],\n",
       "       [0.85101886, 0.85200451, 0.85492308, 0.83928351, 0.05449734],\n",
       "       [0.80276158, 0.80301909, 0.79866667, 0.78205241, 0.11387468],\n",
       "       [0.80064813, 0.81927711, 0.82290598, 0.82408894, 0.05730426],\n",
       "       [0.80839747, 0.83116677, 0.82082051, 0.83589517, 0.07410257],\n",
       "       [0.83041265, 0.83405552, 0.83794872, 0.83305391, 0.06211315],\n",
       "       [0.83405837, 0.83639822, 0.84618803, 0.83243625, 0.04317686],\n",
       "       [0.81244826, 0.83026844, 0.83147009, 0.82535957, 0.053226  ],\n",
       "       [0.79430775, 0.82561826, 0.81249573, 0.81143563, 0.06876661],\n",
       "       [0.79783018, 0.84710773, 0.82222222, 0.85204271, 0.0743764 ],\n",
       "       [0.84890541, 0.86296061, 0.86907692, 0.86356658, 0.06116584],\n",
       "       [0.87673259, 0.8735292 , 0.87521368, 0.85945469, 0.04493578],\n",
       "       [0.84828898, 0.85797576, 0.86764103, 0.85176035, 0.03625465],\n",
       "       [0.84009933, 0.8609702 , 0.86324786, 0.86723727, 0.03948753],\n",
       "       [0.86792652, 0.86472205, 0.86509402, 0.84990735, 0.08233314],\n",
       "       [0.86141003, 0.86789262, 0.87564103, 0.87179035, 0.06959252],\n",
       "       [0.88117086, 0.88268865, 0.89070085, 0.87773758, 0.08118145],\n",
       "       [0.88095951, 0.88408018, 0.87521368, 0.86148416, 0.05421619],\n",
       "       [0.86123391, 0.88304094, 0.87863248, 0.88769081, 0.06543705],\n",
       "       [0.88518642, 0.88966392, 0.9008547 , 0.89173211, 0.03563591],\n",
       "       [0.88236848, 0.89966885, 0.9025641 , 0.90495015, 0.04206353],\n",
       "       [0.90346783, 0.90717255, 0.89470085, 0.889985  , 0.03777059],\n",
       "       [0.88060727, 0.88374551, 0.89100855, 0.89007324, 0.03938077],\n",
       "       [0.88051921, 0.88691609, 0.90119658, 0.8892438 , 0.06047068],\n",
       "       [0.89575371, 0.89255267, 0.90639316, 0.89849113, 0.0353464 ],\n",
       "       [0.8964582 , 0.89841823, 0.91117949, 0.90145593, 0.04863233],\n",
       "       [0.89927614, 0.90135983, 0.91386325, 0.90809141, 0.03088239],\n",
       "       [0.90420754, 0.90734869, 0.91695726, 0.91218565, 0.03283624],\n",
       "       [0.90772997, 0.92693581, 0.92888889, 0.92787435, 0.05196911],\n",
       "       [0.92086863, 0.91767068, 0.91492308, 0.90689138, 0.04598764],\n",
       "       [0.89839553, 0.89519481, 0.89709402, 0.88176123, 0.05605683],\n",
       "       [0.87884605, 0.88092722, 0.88461538, 0.88229066, 0.05155612],\n",
       "       [0.87884605, 0.88351652, 0.88926496, 0.88608488, 0.05143993],\n",
       "       [0.87638035, 0.89290495, 0.88661538, 0.88421424, 0.10124764],\n",
       "       [0.88483418, 0.88263581, 0.88907692, 0.8739257 , 0.03621486],\n",
       "       [0.85066662, 0.84746002, 0.84358974, 0.82666549, 0.08618854],\n",
       "       [0.82953205, 0.83109632, 0.81509402, 0.80684726, 0.0714    ],\n",
       "       [0.8119199 , 0.83306912, 0.82905983, 0.83681285, 0.05936416],\n",
       "       [0.84009933, 0.85943775, 0.85894017, 0.86217242, 0.0511976 ],\n",
       "       [0.8404868 , 0.84992602, 0.86034188, 0.8564899 , 0.03530118]])"
      ]
     },
     "execution_count": 35,
     "metadata": {},
     "output_type": "execute_result"
    }
   ],
   "source": [
    "inputs = sc.transform(inputs)"
   ]
  },
  {
   "cell_type": "code",
   "execution_count": 44,
   "metadata": {
    "id": "qO7NuRch7wqp"
   },
   "outputs": [],
   "source": [
    "X_test = []\n",
    "\n",
    "for i in range(60, 80):\n",
    "    X_test.append(inputs[i-60:i,:])"
   ]
  },
  {
   "cell_type": "code",
   "execution_count": 45,
   "metadata": {
    "id": "eb-2LcSxVBC7"
   },
   "outputs": [],
   "source": [
    "X_test= np.array(X_test)"
   ]
  },
  {
   "cell_type": "code",
   "execution_count": 40,
   "metadata": {
    "colab": {
     "base_uri": "https://localhost:8080/"
    },
    "id": "H0wPCOKZ8dcv",
    "outputId": "f2e41a06-fbee-41d7-e6e8-5de156564a5d"
   },
   "outputs": [
    {
     "data": {
      "text/plain": [
       "numpy.ndarray"
      ]
     },
     "execution_count": 40,
     "metadata": {},
     "output_type": "execute_result"
    }
   ],
   "source": [
    "type(X_test)"
   ]
  },
  {
   "cell_type": "code",
   "execution_count": 46,
   "metadata": {
    "colab": {
     "base_uri": "https://localhost:8080/"
    },
    "id": "jBnK5C5o9CTk",
    "outputId": "3d3e6806-ab8d-4b20-8b01-bdf17f3438a8"
   },
   "outputs": [
    {
     "data": {
      "text/plain": [
       "(20, 60, 5)"
      ]
     },
     "execution_count": 46,
     "metadata": {},
     "output_type": "execute_result"
    }
   ],
   "source": [
    "X_test.shape"
   ]
  },
  {
   "cell_type": "code",
   "execution_count": 59,
   "metadata": {
    "id": "N-qywt9Z8N6V"
   },
   "outputs": [],
   "source": [
    "X_test = np.reshape(X_test,(X_test.shape[0],X_test.shape[1], 5))"
   ]
  },
  {
   "cell_type": "code",
   "execution_count": 60,
   "metadata": {
    "colab": {
     "base_uri": "https://localhost:8080/"
    },
    "id": "kTe7y9yd8QBd",
    "outputId": "997e77b7-fa2d-4d62-8ea5-c8c5f094e114"
   },
   "outputs": [
    {
     "data": {
      "text/plain": [
       "(20, 1)"
      ]
     },
     "execution_count": 60,
     "metadata": {},
     "output_type": "execute_result"
    }
   ],
   "source": [
    "predicted_stock_price = regressor.predict(X_test)\n",
    "predicted_stock_price.shape"
   ]
  },
  {
   "cell_type": "code",
   "execution_count": 61,
   "metadata": {
    "id": "Q2hIVvjPA9su"
   },
   "outputs": [],
   "source": [
    "predicted_stock_price=np.pad(predicted_stock_price, (0,4), 'constant')"
   ]
  },
  {
   "cell_type": "code",
   "execution_count": 63,
   "metadata": {
    "colab": {
     "base_uri": "https://localhost:8080/"
    },
    "id": "OLXOEHCiA-Ed",
    "outputId": "9baa3f9b-6b70-4281-beb1-3a1323cc4407"
   },
   "outputs": [
    {
     "data": {
      "text/plain": [
       "(20,)"
      ]
     },
     "execution_count": 63,
     "metadata": {},
     "output_type": "execute_result"
    }
   ],
   "source": [
    "predicted_stock_price[:20,0].shape"
   ]
  },
  {
   "cell_type": "code",
   "execution_count": 64,
   "metadata": {
    "colab": {
     "base_uri": "https://localhost:8080/"
    },
    "id": "xyzK5d_VBdrJ",
    "outputId": "aa6ea49f-c6a4-4e27-f235-45203072639d"
   },
   "outputs": [
    {
     "data": {
      "text/plain": [
       "array([0.9077219 , 0.9140407 , 0.9124985 , 0.90514576, 0.9087448 ,\n",
       "       0.9161278 , 0.9187169 , 0.9216726 , 0.9256033 , 0.93708205,\n",
       "       0.9294895 , 0.9106722 , 0.9042685 , 0.9074811 , 0.9074286 ,\n",
       "       0.90234125, 0.86549246, 0.8459016 , 0.8552809 , 0.876356  ],\n",
       "      dtype=float32)"
      ]
     },
     "execution_count": 64,
     "metadata": {},
     "output_type": "execute_result"
    }
   ],
   "source": [
    "predicted_stock_price[:20,0]"
   ]
  },
  {
   "cell_type": "code",
   "execution_count": 65,
   "metadata": {
    "id": "c5iEJXOMAdOU"
   },
   "outputs": [],
   "source": [
    "predicted_stock_price = sc.inverse_transform(predicted_stock_price)"
   ]
  },
  {
   "cell_type": "markdown",
   "metadata": {
    "id": "SVPcdnJkVVOK"
   },
   "source": [
    "### Visualizing the Results"
   ]
  },
  {
   "cell_type": "code",
   "execution_count": 76,
   "metadata": {
    "colab": {
     "base_uri": "https://localhost:8080/",
     "height": 295
    },
    "id": "PKIEzxj9VQ_c",
    "outputId": "af673062-b5ca-4ce2-f98d-a6697d859a25"
   },
   "outputs": [
    {
     "data": {
      "image/png": "[encoded data removed]",
      "text/plain": [
       "<Figure size 432x288 with 1 Axes>"
      ]
     },
     "metadata": {
      "needs_background": "light"
     },
     "output_type": "display_data"
    }
   ],
   "source": [
    "plt.plot(dataset_test['Open'], c='red', label='Real TCS Stock Price for April 2022')\n",
    "plt.plot(predicted_stock_price[:20,0], c='blue',label='Predicted TCS Stock Price for April 2022')\n",
    "plt.title('TCS Stock Price Prediction')\n",
    "plt.xlabel('Time')\n",
    "plt.ylabel('TCS Stock Price')\n",
    "plt.legend()\n",
    "plt.show()"
   ]
  },
  {
   "cell_type": "code",
   "execution_count": 74,
   "metadata": {
    "colab": {
     "base_uri": "https://localhost:8080/",
     "height": 676
    },
    "id": "5xn--y7EdSmy",
    "outputId": "26547e19-a853-459f-d65a-c90a572d9468"
   },
   "outputs": [
    {
     "data": {
      "text/html": [
       "\n",
       "  <div id=\"df-783c884d-266b-4826-9090-5209bd784547\">\n",
       "    <div class=\"colab-df-container\">\n",
       "      <div>\n",
       "<style scoped>\n",
       "    .dataframe tbody tr th:only-of-type {\n",
       "        vertical-align: middle;\n",
       "    }\n",
       "\n",
       "    .dataframe tbody tr th {\n",
       "        vertical-align: top;\n",
       "    }\n",
       "\n",
       "    .dataframe thead th {\n",
       "        text-align: right;\n",
       "    }\n",
       "</style>\n",
       "<table border=\"1\" class=\"dataframe\">\n",
       "  <thead>\n",
       "    <tr style=\"text-align: right;\">\n",
       "      <th></th>\n",
       "      <th>Real Price</th>\n",
       "      <th>Predicted Price</th>\n",
       "      <th>Error</th>\n",
       "      <th>% Error</th>\n",
       "    </tr>\n",
       "  </thead>\n",
       "  <tbody>\n",
       "    <tr>\n",
       "      <th>0</th>\n",
       "      <td>3700.00</td>\n",
       "      <td>3771.977051</td>\n",
       "      <td>71.98</td>\n",
       "      <td>1.95</td>\n",
       "    </tr>\n",
       "    <tr>\n",
       "      <th>1</th>\n",
       "      <td>3759.90</td>\n",
       "      <td>3789.915771</td>\n",
       "      <td>30.02</td>\n",
       "      <td>0.80</td>\n",
       "    </tr>\n",
       "    <tr>\n",
       "      <th>2</th>\n",
       "      <td>3695.00</td>\n",
       "      <td>3785.537598</td>\n",
       "      <td>90.54</td>\n",
       "      <td>2.45</td>\n",
       "    </tr>\n",
       "    <tr>\n",
       "      <th>3</th>\n",
       "      <td>3694.75</td>\n",
       "      <td>3764.663574</td>\n",
       "      <td>69.91</td>\n",
       "      <td>1.89</td>\n",
       "    </tr>\n",
       "    <tr>\n",
       "      <th>4</th>\n",
       "      <td>3738.00</td>\n",
       "      <td>3774.881104</td>\n",
       "      <td>36.88</td>\n",
       "      <td>0.99</td>\n",
       "    </tr>\n",
       "    <tr>\n",
       "      <th>5</th>\n",
       "      <td>3740.00</td>\n",
       "      <td>3795.841064</td>\n",
       "      <td>55.84</td>\n",
       "      <td>1.49</td>\n",
       "    </tr>\n",
       "    <tr>\n",
       "      <th>6</th>\n",
       "      <td>3748.00</td>\n",
       "      <td>3803.191406</td>\n",
       "      <td>55.19</td>\n",
       "      <td>1.47</td>\n",
       "    </tr>\n",
       "    <tr>\n",
       "      <th>7</th>\n",
       "      <td>3762.00</td>\n",
       "      <td>3811.582275</td>\n",
       "      <td>49.58</td>\n",
       "      <td>1.32</td>\n",
       "    </tr>\n",
       "    <tr>\n",
       "      <th>8</th>\n",
       "      <td>3772.00</td>\n",
       "      <td>3822.741455</td>\n",
       "      <td>50.74</td>\n",
       "      <td>1.35</td>\n",
       "    </tr>\n",
       "    <tr>\n",
       "      <th>9</th>\n",
       "      <td>3809.30</td>\n",
       "      <td>3855.329102</td>\n",
       "      <td>46.03</td>\n",
       "      <td>1.21</td>\n",
       "    </tr>\n",
       "    <tr>\n",
       "      <th>10</th>\n",
       "      <td>3745.50</td>\n",
       "      <td>3833.774170</td>\n",
       "      <td>88.27</td>\n",
       "      <td>2.36</td>\n",
       "    </tr>\n",
       "    <tr>\n",
       "      <th>11</th>\n",
       "      <td>3690.00</td>\n",
       "      <td>3780.352783</td>\n",
       "      <td>90.35</td>\n",
       "      <td>2.45</td>\n",
       "    </tr>\n",
       "    <tr>\n",
       "      <th>12</th>\n",
       "      <td>3690.00</td>\n",
       "      <td>3762.173096</td>\n",
       "      <td>72.17</td>\n",
       "      <td>1.96</td>\n",
       "    </tr>\n",
       "    <tr>\n",
       "      <th>13</th>\n",
       "      <td>3683.00</td>\n",
       "      <td>3771.293457</td>\n",
       "      <td>88.29</td>\n",
       "      <td>2.40</td>\n",
       "    </tr>\n",
       "    <tr>\n",
       "      <th>14</th>\n",
       "      <td>3707.00</td>\n",
       "      <td>3771.144531</td>\n",
       "      <td>64.14</td>\n",
       "      <td>1.73</td>\n",
       "    </tr>\n",
       "    <tr>\n",
       "      <th>15</th>\n",
       "      <td>3610.00</td>\n",
       "      <td>3756.701660</td>\n",
       "      <td>146.70</td>\n",
       "      <td>4.06</td>\n",
       "    </tr>\n",
       "    <tr>\n",
       "      <th>16</th>\n",
       "      <td>3550.00</td>\n",
       "      <td>3652.089844</td>\n",
       "      <td>102.09</td>\n",
       "      <td>2.88</td>\n",
       "    </tr>\n",
       "    <tr>\n",
       "      <th>17</th>\n",
       "      <td>3500.00</td>\n",
       "      <td>3596.472412</td>\n",
       "      <td>96.47</td>\n",
       "      <td>2.76</td>\n",
       "    </tr>\n",
       "    <tr>\n",
       "      <th>18</th>\n",
       "      <td>3580.00</td>\n",
       "      <td>3623.099609</td>\n",
       "      <td>43.10</td>\n",
       "      <td>1.20</td>\n",
       "    </tr>\n",
       "    <tr>\n",
       "      <th>19</th>\n",
       "      <td>3581.10</td>\n",
       "      <td>3682.930908</td>\n",
       "      <td>101.83</td>\n",
       "      <td>2.84</td>\n",
       "    </tr>\n",
       "  </tbody>\n",
       "</table>\n",
       "</div>\n",
       "      <button class=\"colab-df-convert\" onclick=\"convertToInteractive('df-783c884d-266b-4826-9090-5209bd784547')\"\n",
       "              title=\"Convert this dataframe to an interactive table.\"\n",
       "              style=\"display:none;\">\n",
       "        \n",
       "  <svg xmlns=\"http://www.w3.org/2000/svg\" height=\"24px\"viewBox=\"0 0 24 24\"\n",
       "       width=\"24px\">\n",
       "    <path d=\"M0 0h24v24H0V0z\" fill=\"none\"/>\n",
       "    <path d=\"M18.56 5.44l.94 2.06.94-2.06 2.06-.94-2.06-.94-.94-2.06-.94 2.06-2.06.94zm-11 1L8.5 8.5l.94-2.06 2.06-.94-2.06-.94L8.5 2.5l-.94 2.06-2.06.94zm10 10l.94 2.06.94-2.06 2.06-.94-2.06-.94-.94-2.06-.94 2.06-2.06.94z\"/><path d=\"M17.41 7.96l-1.37-1.37c-.4-.4-.92-.59-1.43-.59-.52 0-1.04.2-1.43.59L10.3 9.45l-7.72 7.72c-.78.78-.78 2.05 0 2.83L4 21.41c.39.39.9.59 1.41.59.51 0 1.02-.2 1.41-.59l7.78-7.78 2.81-2.81c.8-.78.8-2.07 0-2.86zM5.41 20L4 18.59l7.72-7.72 1.47 1.35L5.41 20z\"/>\n",
       "  </svg>\n",
       "      </button>\n",
       "      \n",
       "  <style>\n",
       "    .colab-df-container {\n",
       "      display:flex;\n",
       "      flex-wrap:wrap;\n",
       "      gap: 12px;\n",
       "    }\n",
       "\n",
       "    .colab-df-convert {\n",
       "      background-color: #E8F0FE;\n",
       "      border: none;\n",
       "      border-radius: 50%;\n",
       "      cursor: pointer;\n",
       "      display: none;\n",
       "      fill: #1967D2;\n",
       "      height: 32px;\n",
       "      padding: 0 0 0 0;\n",
       "      width: 32px;\n",
       "    }\n",
       "\n",
       "    .colab-df-convert:hover {\n",
       "      background-color: #E2EBFA;\n",
       "      box-shadow: 0px 1px 2px rgba(60, 64, 67, 0.3), 0px 1px 3px 1px rgba(60, 64, 67, 0.15);\n",
       "      fill: #174EA6;\n",
       "    }\n",
       "\n",
       "    [theme=dark] .colab-df-convert {\n",
       "      background-color: #3B4455;\n",
       "      fill: #D2E3FC;\n",
       "    }\n",
       "\n",
       "    [theme=dark] .colab-df-convert:hover {\n",
       "      background-color: #434B5C;\n",
       "      box-shadow: 0px 1px 3px 1px rgba(0, 0, 0, 0.15);\n",
       "      filter: drop-shadow(0px 1px 2px rgba(0, 0, 0, 0.3));\n",
       "      fill: #FFFFFF;\n",
       "    }\n",
       "  </style>\n",
       "\n",
       "      <script>\n",
       "        const buttonEl =\n",
       "          document.querySelector('#df-783c884d-266b-4826-9090-5209bd784547 button.colab-df-convert');\n",
       "        buttonEl.style.display =\n",
       "          google.colab.kernel.accessAllowed ? 'block' : 'none';\n",
       "\n",
       "        async function convertToInteractive(key) {\n",
       "          const element = document.querySelector('#df-783c884d-266b-4826-9090-5209bd784547');\n",
       "          const dataTable =\n",
       "            await google.colab.kernel.invokeFunction('convertToInteractive',\n",
       "                                                     [key], {});\n",
       "          if (!dataTable) return;\n",
       "\n",
       "          const docLinkHtml = 'Like what you see? Visit the ' +\n",
       "            '<a target=\"_blank\" href=https://colab.research.google.com/notebooks/data_table.ipynb>data table notebook</a>'\n",
       "            + ' to learn more about interactive tables.';\n",
       "          element.innerHTML = '';\n",
       "          dataTable['output_type'] = 'display_data';\n",
       "          await google.colab.output.renderOutput(dataTable, element);\n",
       "          const docLink = document.createElement('div');\n",
       "          docLink.innerHTML = docLinkHtml;\n",
       "          element.appendChild(docLink);\n",
       "        }\n",
       "      </script>\n",
       "    </div>\n",
       "  </div>\n",
       "  "
      ],
      "text/plain": [
       "    Real Price  Predicted Price   Error  % Error\n",
       "0      3700.00      3771.977051   71.98     1.95\n",
       "1      3759.90      3789.915771   30.02     0.80\n",
       "2      3695.00      3785.537598   90.54     2.45\n",
       "3      3694.75      3764.663574   69.91     1.89\n",
       "4      3738.00      3774.881104   36.88     0.99\n",
       "5      3740.00      3795.841064   55.84     1.49\n",
       "6      3748.00      3803.191406   55.19     1.47\n",
       "7      3762.00      3811.582275   49.58     1.32\n",
       "8      3772.00      3822.741455   50.74     1.35\n",
       "9      3809.30      3855.329102   46.03     1.21\n",
       "10     3745.50      3833.774170   88.27     2.36\n",
       "11     3690.00      3780.352783   90.35     2.45\n",
       "12     3690.00      3762.173096   72.17     1.96\n",
       "13     3683.00      3771.293457   88.29     2.40\n",
       "14     3707.00      3771.144531   64.14     1.73\n",
       "15     3610.00      3756.701660  146.70     4.06\n",
       "16     3550.00      3652.089844  102.09     2.88\n",
       "17     3500.00      3596.472412   96.47     2.76\n",
       "18     3580.00      3623.099609   43.10     1.20\n",
       "19     3581.10      3682.930908  101.83     2.84"
      ]
     },
     "execution_count": 74,
     "metadata": {},
     "output_type": "execute_result"
    }
   ],
   "source": [
    "data = {'Real Price':dataset_test['Open'],\n",
    "  'Predicted Price':predicted_stock_price[:20,0]}\n",
    "df = pd.DataFrame(data)\n",
    "df['Error']= df['Predicted Price'] - df['Real Price']\n",
    "df['Error']= np.round(df['Error'],2)\n",
    "df['% Error']= np.round((( df['Error'] /  df['Real Price'] ) * 100),2)\n",
    "df"
   ]
  }
 ],
 "metadata": {
  "accelerator": "GPU",
  "colab": {
   "collapsed_sections": [],
   "name": "TCS Stock Prices Trend_multi_variable Using LSTM | RNN.ipynb",
   "provenance": []
  },
  "kernelspec": {
   "display_name": "Python 3",
   "language": "python",
   "name": "python3"
  },
  "language_info": {
   "codemirror_mode": {
    "name": "ipython",
    "version": 3
   },
   "file_extension": ".py",
   "mimetype": "text/x-python",
   "name": "python",
   "nbconvert_exporter": "python",
   "pygments_lexer": "ipython3",
   "version": "3.7.0"
  }
 },
 "nbformat": 4,
 "nbformat_minor": 1
}
